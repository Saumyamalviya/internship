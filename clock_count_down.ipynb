{
  "nbformat": 4,
  "nbformat_minor": 0,
  "metadata": {
    "colab": {
      "provenance": []
    },
    "kernelspec": {
      "name": "python3",
      "display_name": "Python 3"
    },
    "language_info": {
      "name": "python"
    }
  },
  "cells": [
    {
      "cell_type": "code",
      "source": [
        "import time\n",
        "\n",
        "def countdown_timer(seconds):\n",
        "    while seconds:\n",
        "        mins, secs = divmod(seconds, 60)\n",
        "        timer = f\"{mins:02d}:{secs:02d}\"\n",
        "        print(timer, end='\\r')\n",
        "        time.sleep(1)\n",
        "        seconds -= 1\n",
        "\n",
        "    print(\"Time's up!\")\n",
        "\n",
        "if __name__ == \"__main__\":\n",
        "    try:\n",
        "        user_input = int(input(\"Enter the countdown time in seconds: \"))\n",
        "        countdown_timer(user_input)\n",
        "    except ValueError:\n",
        "        print(\"Please enter a valid number of seconds.\")"
      ],
      "metadata": {
        "colab": {
          "base_uri": "https://localhost:8080/"
        },
        "id": "Cbg05AcFnDc9",
        "outputId": "8f16cfab-a4a7-42fb-ba62-4f85043daac2"
      },
      "execution_count": null,
      "outputs": [
        {
          "output_type": "stream",
          "name": "stdout",
          "text": [
            "Enter the countdown time in seconds: 23\n",
            "Time's up!\n"
          ]
        }
      ]
    }
  ]
}
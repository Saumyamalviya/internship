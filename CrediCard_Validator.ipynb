{
  "nbformat": 4,
  "nbformat_minor": 0,
  "metadata": {
    "colab": {
      "provenance": []
    },
    "kernelspec": {
      "name": "python3",
      "display_name": "Python 3"
    },
    "language_info": {
      "name": "python"
    }
  },
  "cells": [
    {
      "cell_type": "code",
      "execution_count": null,
      "metadata": {
        "id": "7atPPdoMo2Ck"
      },
      "outputs": [],
      "source": [
        "import re"
      ]
    },
    {
      "cell_type": "code",
      "source": [
        "def validate_credit_card(card_number):\n",
        "    # Remove non-numeric characters from the input\n",
        "    card_number = re.sub(r'\\D', '', card_number)\n",
        "\n",
        "    # Check if the card number is empty or non-numeric\n",
        "    if not card_number.isdigit():\n",
        "        return False\n",
        "\n",
        "    # Implement Luhn algorithm\n",
        "    digits = list(map(int, card_number))\n",
        "    check_digit = digits.pop()\n",
        "    digits.reverse()\n",
        "    for i in range(0, len(digits), 2):\n",
        "        digits[i] *= 2\n",
        "        if digits[i] > 9:\n",
        "            digits[i] -= 9\n",
        "\n",
        "    return (sum(digits) + check_digit) % 10 == 0\n",
        "\n",
        "if __name__ == \"__main__\":\n",
        "    card_number = input(\"Enter the credit card number: \")\n",
        "    if validate_credit_card(card_number):\n",
        "        print(\"Valid credit card number!\")\n",
        "    else:\n",
        "        print(\"Invalid credit card number.\")"
      ],
      "metadata": {
        "colab": {
          "base_uri": "https://localhost:8080/"
        },
        "id": "M0OfiQwho7KH",
        "outputId": "164195d0-8000-4d8c-fdd7-2e296e982a7c"
      },
      "execution_count": null,
      "outputs": [
        {
          "output_type": "stream",
          "name": "stdout",
          "text": [
            "Enter the credit card number: 1234678912347654\n",
            "Valid credit card number!\n"
          ]
        }
      ]
    },
    {
      "cell_type": "code",
      "source": [],
      "metadata": {
        "id": "gs6Z77Woo_pT"
      },
      "execution_count": null,
      "outputs": []
    }
  ]
}